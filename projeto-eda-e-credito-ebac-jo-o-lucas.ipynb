{
 "cells": [
  {
   "cell_type": "markdown",
   "id": "6a623ba8",
   "metadata": {
    "id": "KJqp9AANOCtf",
    "papermill": {
     "duration": 0.004887,
     "end_time": "2025-02-07T14:58:08.261286",
     "exception": false,
     "start_time": "2025-02-07T14:58:08.256399",
     "status": "completed"
    },
    "tags": []
   },
   "source": [
    "<img src=\"https://raw.githubusercontent.com/andre-marcos-perez/ebac-course-utils/main/media/logo/newebac_logo_black_half.png\" alt=\"ebac-logo\">\n",
    "\n",
    "---\n",
    "\n",
    "# EDA e análise de crédito com SQL\n",
    "\n",
    "João Lucas Carrijo Vieira\n",
    "\n",
    "https://www.linkedin.com/in/joaolucascv07/\n",
    "\n",
    "https://github.com/joaolucascv\n",
    "\n",
    "---"
   ]
  },
  {
   "cell_type": "markdown",
   "id": "ec66dea3",
   "metadata": {
    "id": "d9jDtUbDOE1-",
    "papermill": {
     "duration": 0.003382,
     "end_time": "2025-02-07T14:58:08.268583",
     "exception": false,
     "start_time": "2025-02-07T14:58:08.265201",
     "status": "completed"
    },
    "tags": []
   },
   "source": [
    "# **Tópicos**\n",
    "\n",
    "<ol type=\"1\">\n",
    "  <li>Introdução;</li>\n",
    "  <li>Exploração dos Dados;</li>\n",
    "  <li>Análise dos Dados;</li>\n",
    "  <li>Storytelling.</li>\n",
    "</ol>"
   ]
  },
  {
   "cell_type": "markdown",
   "id": "ccaacf83",
   "metadata": {
    "id": "SmoHgt-lwkpD",
    "papermill": {
     "duration": 0.00328,
     "end_time": "2025-02-07T14:58:08.275451",
     "exception": false,
     "start_time": "2025-02-07T14:58:08.272171",
     "status": "completed"
    },
    "tags": []
   },
   "source": [
    "---"
   ]
  },
  {
   "cell_type": "markdown",
   "id": "988229bd",
   "metadata": {
    "id": "muD1vxozykSC",
    "papermill": {
     "duration": 0.003267,
     "end_time": "2025-02-07T14:58:08.282228",
     "exception": false,
     "start_time": "2025-02-07T14:58:08.278961",
     "status": "completed"
    },
    "tags": []
   },
   "source": [
    "## 1\\. Introdução\n"
   ]
  },
  {
   "cell_type": "markdown",
   "id": "0f08ac65",
   "metadata": {
    "id": "Kbt89uW55ynj",
    "papermill": {
     "duration": 0.003248,
     "end_time": "2025-02-07T14:58:08.289030",
     "exception": false,
     "start_time": "2025-02-07T14:58:08.285782",
     "status": "completed"
    },
    "tags": []
   },
   "source": [
    "Esse projeto faz parte do curso SQL para análise de dados da EBAC.\n",
    "\n",
    "O dataset utilizado foi disponibilizado pelo professor André Luiz e pode ser acessado integralmente no link abaixo.\n",
    "\n",
    "Utilizei o banco de dados AWS S3 para criar o bucket, conforme link abaixo.\n",
    "\n",
    "A tabela e todas as querys de análise foram feitas no AWS Athena e os resultados foram carregados como imagem nesse notebook.\n",
    "\n",
    " - **Dataset**: GitHub André Peres ([link](https://github.com/andre-marcos-perez/ebac-course-utils/tree/main/dataset)).\n",
    "\n",
    " - **Bucket**: AWS S3 ([link](https://www.kaggle.com/code/joaolucascv/projeto-covid-19-dasboard-jo-o-lucas-ebac)).\n",
    "\n",
    " - **Resultado das Querys**: Imagens no GitHub ([link](https://github.com/joaolucascv/sqlebac-img.git))."
   ]
  },
  {
   "cell_type": "markdown",
   "id": "ac7c10fc",
   "metadata": {
    "id": "oo-6n3_GH0CT",
    "papermill": {
     "duration": 0.003262,
     "end_time": "2025-02-07T14:58:08.295905",
     "exception": false,
     "start_time": "2025-02-07T14:58:08.292643",
     "status": "completed"
    },
    "tags": []
   },
   "source": [
    "### **1.1. Dados**"
   ]
  },
  {
   "cell_type": "markdown",
   "id": "4c6e4fdf",
   "metadata": {
    "id": "q9Kj_d3c3Hmd",
    "papermill": {
     "duration": 0.003444,
     "end_time": "2025-02-07T14:58:08.302874",
     "exception": false,
     "start_time": "2025-02-07T14:58:08.299430",
     "status": "completed"
    },
    "tags": []
   },
   "source": [
    "Os dados são de clientes de um banco que disponibiliza cartões de crédito e contam com as seguintes colunas:  "
   ]
  },
  {
   "cell_type": "markdown",
   "id": "2adfb36b",
   "metadata": {
    "id": "7hKS37TRwvG7",
    "papermill": {
     "duration": 0.00358,
     "end_time": "2025-02-07T14:58:08.310077",
     "exception": false,
     "start_time": "2025-02-07T14:58:08.306497",
     "status": "completed"
    },
    "tags": []
   },
   "source": [
    "- **idade** = idade do cliente\n",
    "- **sexo** = sexo do cliente (F ou M)\n",
    "- **dependentes** = número de dependentes do cliente\n",
    "- **escolaridade** = nível de escolaridade do clientes\n",
    "- **estado civil** = estado civil dos clientes\n",
    "- **salario_anual** = faixa salarial do cliente\n",
    "- **tipo_cartao** = tipo de cartao do cliente\n",
    "- **qtd_produtos** = quantidade de produtos comprados nos últimos 12 meses\n",
    "- **iteracoes_12m** = quantidade de iterações/transacoes nos ultimos 12 meses\n",
    "- **meses_inativo_12m** = quantidade de meses que o cliente ficou inativo\n",
    "- **limite_credito** = limite de credito do cliente\n",
    "- **valor_transacoes_12m** = valor das transações dos ultimos 12 meses\n",
    "- **qtd_transacoes_12m** = quantidade de transacoes dos ultimos 12 meses"
   ]
  },
  {
   "cell_type": "markdown",
   "id": "09f4af65",
   "metadata": {
    "id": "pRqxZko2L6Mv",
    "papermill": {
     "duration": 0.003367,
     "end_time": "2025-02-07T14:58:08.317689",
     "exception": false,
     "start_time": "2025-02-07T14:58:08.314322",
     "status": "completed"
    },
    "tags": []
   },
   "source": [
    "Query de criação da tabela:\n",
    "\n",
    "CREATE EXTERNAL TABLE IF NOT EXISTS default.credito (  \n",
    "  `idade` int,  \n",
    "  `sexo` string,  \n",
    "  `dependentes` int,  \n",
    "  `escolaridade` string,  \n",
    "  `estado_civil` string,  \n",
    "  `salario_anual` string,  \n",
    "  `tipo_cartao` string,  \n",
    "  `qtd_produtos` bigint,  \n",
    "  `iteracoes_12m` int,  \n",
    "  `meses_inativo_12m` int,  \n",
    "  `limite_credito` float,  \n",
    "  `valor_transacoes_12m` float,\n",
    "  `qtd_transacoes_12m` int  \n",
    "  )\n",
    "\n",
    "ROW FORMAT SERDE 'org.apache.hadoop.hive.serde2.lazy.LazySimpleSerDe'  \n",
    "WITH SERDEPROPERTIES (  \n",
    "  'serialization.format' = ',',  \n",
    "  'field.delim' = ','  \n",
    "  ) LOCATION <sua-localizacao>  \n",
    "\n",
    "TBLPROPERTIES ('has_encrypted_data'='false');"
   ]
  },
  {
   "cell_type": "markdown",
   "id": "efeaf35b",
   "metadata": {
    "id": "EkVv4SCzIrxS",
    "papermill": {
     "duration": 0.003566,
     "end_time": "2025-02-07T14:58:08.324799",
     "exception": false,
     "start_time": "2025-02-07T14:58:08.321233",
     "status": "completed"
    },
    "tags": []
   },
   "source": [
    "## 2\\. Exploração de Dados"
   ]
  },
  {
   "cell_type": "markdown",
   "id": "a991768b",
   "metadata": {
    "id": "8L5p6NGWaeSi",
    "papermill": {
     "duration": 0.003278,
     "end_time": "2025-02-07T14:58:08.331745",
     "exception": false,
     "start_time": "2025-02-07T14:58:08.328467",
     "status": "completed"
    },
    "tags": []
   },
   "source": [
    "Nessa fase vamos entender nossa matéria-prima. Vamos explorar a quantidade de dados, o tipo dos dados e a qualidade deles.\n",
    "\n",
    "**Qual a quantidade de informações temos na nossa base de dados?**\n",
    "\n",
    "Query: SELECT count(*) FROM credito\n",
    "\n",
    "![](https://raw.githubusercontent.com/joaolucascv/sqlebac-img/refs/heads/main/count.png)\n",
    "\n",
    "Temos 2564 linhas na base de dados.\n",
    "\n",
    "\n",
    "**Vamos visualizar as 10 primeiras linhas para entender como são os dados:**\n",
    "\n",
    "Query: SELECT * FROM credito LIMIT 10;\n",
    "\n",
    "![](https://github.com/joaolucascv/sqlebac-img/blob/main/limit10.png?raw=true)\n",
    "\n",
    "\n",
    "Podemos observar que a base de dados está dividida em 11 colunas conforme o item 1.1 desse projeto.\n",
    "\n",
    "**Qual o tipo de cada coluna na nossa base de dados?**\n",
    "\n",
    "Query: DESCRIBE credito\n",
    "\n",
    "![](https://raw.githubusercontent.com/joaolucascv/sqlebac-img/refs/heads/main/describe.png)\n",
    "\n",
    "\n",
    "Vamos trabalhar com as variáveis que não são numéricas.\n"
   ]
  },
  {
   "cell_type": "markdown",
   "id": "29198009",
   "metadata": {
    "id": "fMs9ScwMYINX",
    "papermill": {
     "duration": 0.003316,
     "end_time": "2025-02-07T14:58:08.338999",
     "exception": false,
     "start_time": "2025-02-07T14:58:08.335683",
     "status": "completed"
    },
    "tags": []
   },
   "source": [
    "A segunda fase da exploração será mais focada nas variáveis categóricas como: escolaridade, estado civil, salário anual e tipo de cartão.\n",
    "\n",
    "**Tipos de Escolaridade**\n",
    "\n",
    "Query: SELECT DISTINCT escolaridade FROM credito\n",
    "\n",
    "![](https://github.com/joaolucascv/sqlebac-img/blob/main/escolaridade.png?raw=true)\n",
    "\n",
    "\n",
    "**Tipos de Estado civil**\n",
    "\n",
    "Query: SELECT DISTINCT estado_civil FROM credito\n",
    "\n",
    "![](https://github.com/joaolucascv/sqlebac-img/blob/main/estado_civil.png?raw=true)\n",
    "\n",
    "As variáveis escolaridade e estado civil possuem valores nulos que vamos tratar mais adiante nesse projeto.\n",
    "\n",
    "\n",
    "\n",
    "**Faixas do salário anual**\n",
    "\n",
    "Query: SELECT DISTINCT salario_anual FROM credito\n",
    "\n",
    "![](https://github.com/joaolucascv/sqlebac-img/blob/main/salario_anual.png?raw=true)\n",
    "\n",
    "Na base de dados não temos o salário específico de cada cliente, porém temos a faixa salarial que ele se encontra.\n",
    "\n",
    "\n",
    "\n",
    "**Tipos de cartão**\n",
    "\n",
    "Query: SELECT DISTINCT tipo_cartao FROM credito\n",
    "\n",
    "![](https://github.com/joaolucascv/sqlebac-img/blob/main/cartao.png?raw=true)\n",
    "\n",
    "Nessa variável não temos valores nulos.\n",
    "\n"
   ]
  },
  {
   "cell_type": "markdown",
   "id": "d4261d11",
   "metadata": {
    "id": "PD0FiM7UJOGT",
    "papermill": {
     "duration": 0.003329,
     "end_time": "2025-02-07T14:58:08.345917",
     "exception": false,
     "start_time": "2025-02-07T14:58:08.342588",
     "status": "completed"
    },
    "tags": []
   },
   "source": [
    "## 3\\. Análise dos Dados"
   ]
  },
  {
   "cell_type": "markdown",
   "id": "3560840c",
   "metadata": {
    "id": "9LIHnwDuiN47",
    "papermill": {
     "duration": 0.003244,
     "end_time": "2025-02-07T14:58:08.352748",
     "exception": false,
     "start_time": "2025-02-07T14:58:08.349504",
     "status": "completed"
    },
    "tags": []
   },
   "source": [
    "Uma vez que exploramos o dados e buscamos entender quais são as informações que temos no nosso banco de dados, podemos analisar as informações para buscar entender o que está acontecendo no banco de dados."
   ]
  },
  {
   "cell_type": "markdown",
   "id": "968e97e9",
   "metadata": {
    "id": "rllIx255dOOu",
    "papermill": {
     "duration": 0.003241,
     "end_time": "2025-02-07T14:58:08.359586",
     "exception": false,
     "start_time": "2025-02-07T14:58:08.356345",
     "status": "completed"
    },
    "tags": []
   },
   "source": [
    "1. Quantos clientes temos de cada faixa salarial?\n",
    "1. Quantos clientes são homens e quantos são mulheres?\n",
    "1. Qual a idade dos clientes?\n",
    "1. A idade impacta no uso do cartão de crédito?\n",
    "1. Qual a maior e menor transação dos clientes?\n",
    "1. Quais as características dos clientes que mais usaram o cartão nos últimos 12 meses? E dos que menos usaram?\n",
    "1. O estado civil e o número de dependentes impacta no uso do cartão?"
   ]
  },
  {
   "cell_type": "markdown",
   "id": "7000413a",
   "metadata": {
    "id": "X1w6Eys4EZYz",
    "papermill": {
     "duration": 0.00321,
     "end_time": "2025-02-07T14:58:08.366321",
     "exception": false,
     "start_time": "2025-02-07T14:58:08.363111",
     "status": "completed"
    },
    "tags": []
   },
   "source": [
    "**Quantos clientes temos de cada faixa salarial?**\n",
    "\n",
    "Query: SELECT count(*), salario_anual from credito  \n",
    "group by salario_anual\n",
    "\n",
    "![](https://github.com/joaolucascv/sqlebac-img/blob/main/faixa_salarial.png?raw=true)\n",
    "  \n",
    "A faixa salarial que possui maior número de clientes desse banco é dos que recebem menos do que $ 40K por ano.\n",
    "\n",
    "\n",
    "**Quantos clientes são homens e quantos são mulheres?**\n",
    "\n",
    "Query: SELECT count(*), sexo from credito  \n",
    "group by sexo\n",
    "\n",
    "![](https://github.com/joaolucascv/sqlebac-img/blob/main/faixa_sexo.png?raw=true)\n",
    "\n",
    "![](https://github.com/joaolucascv/sqlebac-img/blob/main/grafico-qde-sexo.png?raw=true)\n",
    "\n",
    "\n",
    "A base de dados está dividida proporcionalmente em 60% de homens e 40% de mulheres aproximadamente. Do csv extraído dos dados gerei um gráfico em pizza para melhor visualização no excel.\n",
    "\n",
    "\n",
    "\n",
    "**Qual a idade dos clientes?**\n",
    "\n",
    "Query: SELECT avg(idade) as media_idade, min(idade) as min_idade, max(idade) as max_idade, sexo from credito  \n",
    "group by sexo\n",
    "\n",
    "![](https://github.com/joaolucascv/sqlebac-img/blob/main/med-idade.png?raw=true)\n",
    "\n",
    "A idade dos clientes varia entre 26 e 73 anos, sendo a média 46 anos de idade.\n",
    "\n",
    "\n",
    "**A idade impacta no uso do cartão de crédito?**\n",
    "\n",
    "Query: SELECT CAST(avg(valor_transacoes_12m) AS INT) as media_valor_gasto, idade from credito  \n",
    "group by idade\n",
    "\n",
    "![](https://github.com/joaolucascv/sqlebac-img/blob/main/Idade%20e%20uso%20do%20cart%C3%A3o.png?raw=true)\n",
    "\n",
    "Usei a função CAST para gerar um número inteiro na média do valor das transações dos últimos 12 meses e com o resultado csv criei um gráfico de barras. Podemos observar que a medida que a idade dos clientes aumenta diminui o valor da média do uso do cartão de crédito.\n",
    "\n",
    "\n",
    "**Qual a maior e menor transação dos clientes em 12 meses?**\n",
    "\n",
    "Query: SELECT min(valor_transacoes_12m) as transacao_minima, max(valor_transacoes_12m) as transacao_maxima from credito\n",
    "\n",
    "![](https://github.com/joaolucascv/sqlebac-img/blob/main/transacoes%20min-max.png?raw=true)\n",
    "\n",
    "As transações variam de 510,16 até 4776,58 no período de 12 meses.\n",
    "\n",
    "\n",
    "\n",
    "**Quais as características dos clientes que mais usaram o cartão nos últimos 12 meses? E dos que menos usaram?**\n",
    "\n",
    "Query 1 : SELECT max(valor_transacoes_12m) as maiores_transacoes, escolaridade, tipo_cartao, sexo from credito  \n",
    "where escolaridade != 'na' and tipo_cartao != 'na'  \n",
    "group by escolaridade, tipo_cartao, sexo  \n",
    "order by maiores_transacoes desc  \n",
    "limit 10\n",
    "\n",
    "![](https://github.com/joaolucascv/sqlebac-img/blob/main/maiores%2010%20transacoes.png?raw=true)\n",
    "\n",
    "\n",
    "Query 2: SELECT max(valor_transacoes_12m) as menores_transacoes, escolaridade, tipo_cartao, sexo from credito  \n",
    "where escolaridade != 'na' and tipo_cartao != 'na'  \n",
    "group by escolaridade, tipo_cartao, sexo  \n",
    "order by menores_transacoes asc  \n",
    "limit 10\n",
    "\n",
    "![](https://github.com/joaolucascv/sqlebac-img/blob/main/menores%2010%20transacoes.png?raw=true)\n",
    "\n",
    "\n",
    "Não conseguimos a partir dos dados definir um padrão de relação entre o sexo, a escolaridade e o uso do cartão. Já no tipo do cartão podemos observar que quem mais usa são pessoas que possuem o cartão blue, enquanto cartões platinum, gold e silver estão associados às menores transações.\n",
    "\n",
    "\n",
    "\n",
    "**O estado civil e o número de dependentes impactam no uso do cartão?**\n",
    "\n",
    "Query 1: SELECT max(valor_transacoes_12m) as maiores_transacoes, estado_civil, dependentes from credito  \n",
    "where estado_civil != 'na'  \n",
    "group by estado_civil, dependentes  \n",
    "order by maiores_transacoes desc  \n",
    "limit 10\n",
    "\n",
    "![](https://github.com/joaolucascv/sqlebac-img/blob/main/maiores%2010%20transacoes%20estado%20civil%20e%20dep.png?raw=true)\n",
    "\n",
    "\n",
    "Query 2: SELECT min(valor_transacoes_12m) as menores_transacoes, estado_civil, dependentes from credito  \n",
    "where estado_civil != 'na'  \n",
    "group by estado_civil, dependentes  \n",
    "order by menores_transacoes desc  \n",
    "limit 10\n",
    "\n",
    "![](https://github.com/joaolucascv/sqlebac-img/blob/main/menores%2010%20transacoes%20estado%20civil%20e%20dep.png?raw=true)\n",
    "\n",
    "\n",
    "Podemos observar uma tendência de que indivíduos solteiros e casados realizam transações maiores, especialmente aqueles com 3 ou 4 dependentes. Indivíduos divorciados tendem a ter transações menores, mas ainda significativas. Por fim,o número de dependentes pode influenciar o valor das transações, com mais dependentes potencialmente levando a transações maiores."
   ]
  },
  {
   "cell_type": "markdown",
   "id": "7a857056",
   "metadata": {
    "id": "fGmO0I_ae62k",
    "papermill": {
     "duration": 0.003234,
     "end_time": "2025-02-07T14:58:08.373067",
     "exception": false,
     "start_time": "2025-02-07T14:58:08.369833",
     "status": "completed"
    },
    "tags": []
   },
   "source": [
    "## 4\\. Storytelling"
   ]
  },
  {
   "cell_type": "markdown",
   "id": "ca1cc943",
   "metadata": {
    "id": "cM1QuUUYK-Xg",
    "papermill": {
     "duration": 0.003261,
     "end_time": "2025-02-07T14:58:08.379856",
     "exception": false,
     "start_time": "2025-02-07T14:58:08.376595",
     "status": "completed"
    },
    "tags": []
   },
   "source": [
    "**Comportamento e consumo com cartão de crédito**\n",
    "\n",
    "Em um banco com uma base de clientes diversificada, a maioria dos clientes pertence à faixa salarial de menos de **$ 40K por ano**. Essa é uma população que, embora não tenha altos rendimentos, demonstra um uso significativo de cartões de crédito, especialmente em transações do dia a dia. A base de dados é composta por 60% de homens e 40% de mulheres, com idades variando **entre 26 e 73 anos, e uma média de 46 anos**. Essa distribuição etária e de gênero reflete uma amostra equilibrada, mas com nuances interessantes no comportamento financeiro.\n",
    "\n",
    "Ao analisar o uso do cartão de crédito, observamos que a média de transações nos últimos 12 meses diminui à medida que a idade avança. Isso sugere que clientes **mais jovens tendem a utilizar mais o cartão**, possivelmente para cobrir despesas cotidianas, enquanto os clientes mais velhos podem ter um perfil de consumo mais conservador ou já estabilizado financeiramente.\n",
    "\n",
    "Um dado curioso é que o tipo de cartão **mais utilizado é o cartão Blue**, que geralmente é associado a clientes com menor renda ou que buscam benefícios básicos. Enquanto isso, cartões premium como Platinum, Gold e Silver são menos utilizados, o que pode indicar que os clientes com maior poder aquisitivo preferem outras formas de pagamento ou não veem valor suficiente nos benefícios oferecidos por esses cartões.\n",
    "\n",
    "Outro aspecto relevante é o **estado civil e o número de dependentes**. Clientes solteiros e casados tendem a realizar transações maiores, especialmente aqueles com 3 ou 4 dependentes. Isso pode estar relacionado a despesas familiares, como educação, saúde e lazer. Por outro lado, indivíduos divorciados tendem a ter transações menores, mas ainda significativas, possivelmente devido a uma reorganização financeira pós-divórcio. O número de dependentes parece ser um fator importante, já que mais dependentes estão associados a transações maiores, refletindo o custo de vida de famílias maiores.\n",
    "\n",
    "Com base nesses dados, é possível traçar algumas estratégias para o departamento de marketing:\n",
    "\n",
    "**Foco no Cartão Blue**:\n",
    "\n",
    "Como o cartão Blue é o mais utilizado, o marketing pode destacar seus benefícios, como cashback, descontos em estabelecimentos parceiros e programas de pontos. Campanhas que reforcem a praticidade e o valor agregado desse cartão podem atrair ainda mais clientes da faixa salarial abaixo de $ 40K.\n",
    "\n",
    "**Segmentação por Idade**:\n",
    "\n",
    "Para clientes mais jovens, que tendem a usar mais o cartão, crie campanhas que incentivem o uso responsável, como programas de educação financeira ou ofertas especiais para compras online.\n",
    "\n",
    "Para clientes mais velhos, que usam menos o cartão, ofereça benefícios que atendam às suas necessidades, como descontos em farmácias, planos de saúde ou seguros.\n",
    "\n",
    "**Aproveitar o Perfil Familiar**:\n",
    "\n",
    "Como clientes casados e com dependentes tendem a realizar transações maiores, crie campanhas que ofereçam benefícios para famílias, como descontos em supermercados, escolas ou atividades de lazer.\n",
    "\n",
    "Ofereça cartões com limites mais altos ou programas de recompensas para famílias com 3 ou mais dependentes.\n",
    "\n",
    "**Engajamento de Divorciados**:\n",
    "\n",
    "Para clientes divorciados, que têm transações menores, mas ainda significativas, ofereça produtos financeiros que ajudem na reorganização de suas finanças, como empréstimos com taxas especiais ou programas de recompensas para gastos essenciais.\n",
    "\n",
    "**Promoção de Cartões Premium**:\n",
    "\n",
    "Para aumentar o uso de cartões Platinum, Gold e Silver, o marketing pode focar em benefícios exclusivos, como acesso a salas VIP, seguros gratuitos ou programas de milhagem. Destaque o status e a exclusividade associados a esses cartões.\n",
    "\n",
    "**Uso de Dados para Personalização**:\n",
    "\n",
    "Utilize os dados demográficos e comportamentais para criar campanhas altamente personalizadas. Por exemplo, envie ofertas específicas para homens solteiros com 2 dependentes ou mulheres casadas com 3 dependentes."
   ]
  }
 ],
 "metadata": {
  "colab": {
   "provenance": [
    {
     "file_id": "1XB6oEU-i52ZvTrJV7yCvM7ZRaVsZs_cB",
     "timestamp": 1738676498073
    },
    {
     "file_id": "1jksT3ocGq2cfL2NaJY3YbpX5pUCwSF3C",
     "timestamp": 1736355815962
    }
   ]
  },
  "kaggle": {
   "accelerator": "none",
   "dataSources": [],
   "dockerImageVersionId": 30886,
   "isGpuEnabled": false,
   "isInternetEnabled": true,
   "language": "python",
   "sourceType": "notebook"
  },
  "kernelspec": {
   "display_name": "Python 3",
   "name": "python3"
  },
  "language_info": {
   "codemirror_mode": {
    "name": "ipython",
    "version": 3
   },
   "file_extension": ".py",
   "mimetype": "text/x-python",
   "name": "python",
   "nbconvert_exporter": "python",
   "pygments_lexer": "ipython3",
   "version": "3.10.12"
  },
  "papermill": {
   "default_parameters": {},
   "duration": 3.627648,
   "end_time": "2025-02-07T14:58:08.904094",
   "environment_variables": {},
   "exception": null,
   "input_path": "__notebook__.ipynb",
   "output_path": "__notebook__.ipynb",
   "parameters": {},
   "start_time": "2025-02-07T14:58:05.276446",
   "version": "2.6.0"
  }
 },
 "nbformat": 4,
 "nbformat_minor": 5
}
